{
 "cells": [
  {
   "cell_type": "markdown",
   "metadata": {},
   "source": [
    "# Kaggle Groupe"
   ]
  },
  {
   "cell_type": "code",
   "execution_count": 1,
   "metadata": {},
   "outputs": [
    {
     "name": "stderr",
     "output_type": "stream",
     "text": [
      "C:\\Users\\natacha\\Anaconda3\\lib\\site-packages\\sklearn\\cross_validation.py:41: DeprecationWarning: This module was deprecated in version 0.18 in favor of the model_selection module into which all the refactored classes and functions are moved. Also note that the interface of the new CV iterators are different from that of this module. This module will be removed in 0.20.\n",
      "  \"This module will be removed in 0.20.\", DeprecationWarning)\n"
     ]
    }
   ],
   "source": [
    "import pandas as pd\n",
    "import numpy as np\n",
    "import matplotlib.pyplot as plt\n",
    "import seaborn as sns\n",
    "from sklearn import preprocessing\n",
    "from sklearn.cross_validation import train_test_split\n",
    "from sklearn.linear_model import LogisticRegression\n",
    "from sklearn.naive_bayes import GaussianNB\n",
    "from sklearn.metrics import accuracy_score\n",
    "from sklearn import metrics\n",
    "from sklearn import datasets, linear_model\n",
    "from sklearn.metrics import mean_squared_error, r2_score\n",
    "from sklearn.ensemble import ExtraTreesClassifier\n",
    "\n",
    "from sklearn import ensemble\n",
    "from sklearn import datasets"
   ]
  },
  {
   "cell_type": "code",
   "execution_count": 2,
   "metadata": {},
   "outputs": [],
   "source": [
    "train = pd.read_csv(\"train.csv\")\n",
    "test = pd.read_csv(\"test.csv\")"
   ]
  },
  {
   "cell_type": "code",
   "execution_count": null,
   "metadata": {},
   "outputs": [],
   "source": []
  },
  {
   "cell_type": "code",
   "execution_count": null,
   "metadata": {},
   "outputs": [],
   "source": [
    "train.info()"
   ]
  },
  {
   "cell_type": "code",
   "execution_count": null,
   "metadata": {},
   "outputs": [],
   "source": [
    "train.describe()"
   ]
  },
  {
   "cell_type": "code",
   "execution_count": null,
   "metadata": {},
   "outputs": [],
   "source": [
    "train_object = train.select_dtypes(exclude=['floating','float64','int64'])   \n",
    "\n",
    "train_object = pd.concat([train_object,train['SalePrice']], axis=1)\n",
    "\n",
    "train_numeric = train.select_dtypes(include=['floating','float64','int64'])"
   ]
  },
  {
   "cell_type": "code",
   "execution_count": null,
   "metadata": {},
   "outputs": [],
   "source": [
    "sns.distplot(train['SalePrice'])"
   ]
  },
  {
   "cell_type": "code",
   "execution_count": null,
   "metadata": {
    "scrolled": true
   },
   "outputs": [],
   "source": [
    "total = train_numeric.isnull().sum().sort_values(ascending=False)\n",
    "percent = (train_numeric.isnull().sum()/train_numeric.isnull().count()).sort_values(ascending=False)\n",
    "missing_data = pd.concat([total, percent], axis=1, keys=['Total', 'Percent'])\n",
    "missing_data.head(20)"
   ]
  },
  {
   "cell_type": "markdown",
   "metadata": {},
   "source": [
    "On drop la colonne LotFrontage car trop de valeurs manquantes.\n",
    "On remplace la colonne GarageYrBlt par hasgarage.\n",
    "MasVnrArea = on remplace par zéro car correspond à pas de veneer."
   ]
  },
  {
   "cell_type": "code",
   "execution_count": null,
   "metadata": {},
   "outputs": [],
   "source": [
    "sns.clustermap(train_numeric.corr())"
   ]
  },
  {
   "cell_type": "code",
   "execution_count": null,
   "metadata": {},
   "outputs": [],
   "source": [
    "columns_train_object =['MSZoning', 'Street', 'Alley', 'LotShape', 'LandContour', 'Utilities',\n",
    "       'LotConfig', 'LandSlope', 'Neighborhood', 'Condition1', 'Condition2',\n",
    "       'BldgType', 'HouseStyle', 'RoofStyle', 'RoofMatl', 'Exterior1st',\n",
    "       'Exterior2nd', 'MasVnrType', 'ExterQual', 'ExterCond', 'Foundation',\n",
    "       'BsmtQual', 'BsmtCond', 'BsmtExposure', 'BsmtFinType1', 'BsmtFinType2',\n",
    "       'Heating', 'HeatingQC', 'CentralAir', 'Electrical', 'KitchenQual',\n",
    "       'Functional', 'FireplaceQu', 'GarageType', 'GarageFinish', 'GarageQual',\n",
    "       'GarageCond', 'PavedDrive', 'PoolQC', 'Fence', 'MiscFeature',\n",
    "       'SaleType', 'SaleCondition', 'SalePrice']\n",
    "\n",
    "fig, axs = plt.subplots(nrows = len(columns_train_object), ncols=3, figsize = (30,15* len(columns_train_object)))\n",
    "\n",
    "for i, x in enumerate(columns_train_object):\n",
    "    sns.barplot(x, 'SalePrice', data=train_object, ax=axs[i, 0])\n",
    "    sns.boxplot(x, 'SalePrice', data=train_object, ax=axs[i, 1])\n",
    "    sns.countplot(x, data =train_object, ax=axs[i , 2])"
   ]
  },
  {
   "cell_type": "markdown",
   "metadata": {},
   "source": [
    "# Missing Values :"
   ]
  },
  {
   "cell_type": "code",
   "execution_count": null,
   "metadata": {},
   "outputs": [],
   "source": [
    "total = train_object.isnull().sum().sort_values(ascending=False)\n",
    "percent = (train_object.isnull().sum()/train_object.isnull().count()).sort_values(ascending=False)\n",
    "missing_data = pd.concat([total, percent], axis=1, keys=['Total', 'Percent'])\n",
    "missing_data.head(20)"
   ]
  },
  {
   "cell_type": "markdown",
   "metadata": {},
   "source": [
    "On drop les colonnes : PoolQC, MiscFeature, Alley, Fence\n",
    "FireplaceQu = pas de cheminée\n",
    "GarageCond, GarageQual, GarageFinish, GarageType : on remplmace les vides par NoGarage\n",
    "\n",
    "On enlève les colonnes : \n",
    "BsmtFinType2 \n",
    "BsmtExposure \n",
    "\n",
    "On remplace les données manquantes par : Nogarage\n",
    "BsmtQual\n",
    "BsmtCond\n",
    "BsmtFinType1\n",
    "\n",
    "MasVnrType = on remplace par NoVnr car correspond à pas de veneer.\n",
    "\n",
    "Electrical\n",
    "On remplace la données manquante par SBrkr car correspond à la majorité des cas.\n",
    "\n",
    "Pas de retraitement:\n",
    "LotConfig \n",
    "LandSlope \n",
    "Utilities \n",
    "RoofMatl \n"
   ]
  },
  {
   "cell_type": "markdown",
   "metadata": {},
   "source": [
    "# Retraitements"
   ]
  },
  {
   "cell_type": "code",
   "execution_count": 5,
   "metadata": {},
   "outputs": [],
   "source": [
    "def prepare_data(df):\n",
    "    \n",
    "    #GarageYrBlt : On remplace la colonne par hasgarage.\n",
    "    df['GarageYrBlt'].fillna(0, inplace=True)\n",
    "    mask = df['GarageYrBlt'] > 0\n",
    "    df['GarageYrBlt'] = mask\n",
    "    \n",
    "    \n",
    "    #MasVnrArea : on remplace par zéro car correspond à pas de veneer.\n",
    "    df['MasVnrArea'] = df[\"MasVnrArea\"].fillna(0)\n",
    "        \n",
    "    #FireplaceQu = pas de cheminée\n",
    "    df['FireplaceQu'] = df[\"FireplaceQu\"].fillna('NV')\n",
    "    \n",
    "    #GarageCond, GarageQual, GarageFinish, GarageType, BsmtQual, BsmtCond, BsmtFinType1 : \n",
    "    #on remplmace les vides par NoGarage\n",
    "    df[['GarageCond', 'GarageQual', 'GarageFinish', 'GarageType', 'BsmtQual', 'BsmtCond', 'BsmtFinType1']] = \\\n",
    "    df[['GarageCond', 'GarageQual', 'GarageFinish', 'GarageType', 'BsmtQual', 'BsmtCond', 'BsmtFinType1']].fillna('NV')\n",
    "\n",
    "\n",
    "    #MasVnrType = on remplace par NoVnr car correspond à pas de veneer.\n",
    "    df['MasVnrType'] = df[\"MasVnrType\"].fillna('NV')\n",
    "    \n",
    "    # Electrical : On remplace la données manquante par SBrkr car correspond à la majorité des cas.\n",
    "    df['Electrical'] = df[\"Electrical\"].fillna('SBrkr')\n",
    "\n",
    "    #On drop les colonnes : PoolQC, MiscFeature, Alley, Fence, LotFrontage, BsmtFinType2, BsmtExposure, Street,\n",
    "    # Condition2, Condition1, Heating \n",
    "    df = df.drop(['PoolQC', 'MiscFeature', 'Alley', 'Fence', 'LotFrontage', 'BsmtFinType2', 'BsmtExposure', \n",
    "                 'Street', 'Condition2', 'Condition1', 'Heating', 'Utilities', 'BsmtHalfBath', 'MiscVal'  ], axis = 1)\n",
    "\n",
    "    \n",
    "    for i in range(df.shape[1]):\n",
    "        if df.count()[i] < df.shape[0]:\n",
    "            #print(i, df.columns[i], df.iloc[:,i].dtypes)\n",
    "            if (df.iloc[:,i].dtypes == object):\n",
    "                #print('object')\n",
    "                df.iloc[:,i] = df.iloc[:,i].fillna('NV')\n",
    "            elif (df.iloc[:,i].dtypes == int):\n",
    "                #print('int')\n",
    "                df.iloc[:,i] = df.iloc[:,i].fillna(np.mean(df.iloc[:,i]))\n",
    "            elif (df.iloc[:,i].dtypes == float):\n",
    "                #print('float')\n",
    "                df.iloc[:,i] = df.iloc[:,i].fillna(np.mean(df.iloc[:,i]))\n",
    "    \n",
    "    \n",
    "    cleanup_nums = {\n",
    "                    \"ExterQual\": {\"Ex\": 4, \"Gd\": 3, \"TA\": 2, \"Fa\": 1, \"Po\": 0, \"NV\": -1},\n",
    "                    \"ExterCond\": {\"Ex\": 4, \"Gd\": 3, \"TA\": 2, \"Fa\": 1, \"Po\": 0, \"NV\": -1},\n",
    "                    \"BsmtQual\": {\"Ex\": 4, \"Gd\": 3, \"TA\": 2, \"Fa\": 1, \"Po\": 0, \"NV\": -1},\n",
    "                    \"BsmtCond\": {\"Ex\": 4, \"Gd\": 3, \"TA\": 2, \"Fa\": 1, \"Po\": 0, \"NV\": -1},\n",
    "                    \"BsmtFinType1\": {\"GLQ\": 5, \"ALQ\": 4, \"BLQ\": 3, \"Rec\": 2, \"LwQ\": 1, \"Unf\": 0, \"NV\": -1},\n",
    "                    \"BsmtFinType2\": {\"GLQ\": 5, \"ALQ\": 4, \"BLQ\": 3, \"Rec\": 2, \"LwQ\": 1, \"Unf\": 0, \"NV\": -1},\n",
    "                    \"HeatingQC\": {\"Ex\": 4, \"Gd\": 3, \"TA\": 2, \"Fa\": 1, \"Po\": 0, \"NV\": -1},\n",
    "                    \"KitchenQual\": {\"Ex\": 4, \"Gd\": 3, \"TA\": 2, \"Fa\": 1, \"Po\": 0, \"NV\": -1},\n",
    "                    \"Functional\": {\"Typ\": 7, \"Min1\": 6, \"Min2\": 5, \"Mod\": 4, \"Maj1\": 3, \"Maj2\": 2, \"Sev\": 1, \"Sal\": 0, \"NV\": -1},\n",
    "                    \"FireplaceQu\": {\"Ex\": 4, \"Gd\": 3, \"TA\": 2, \"Fa\": 1, \"Po\": 0, \"NV\": -1},\n",
    "                    \"GarageFinish\": {\"Fin\": 2, \"RFn\": 1, \"Unf\": 0, \"NV\": -1},\n",
    "                    \"GarageQual\": {\"Ex\": 4, \"Gd\": 3, \"TA\": 2, \"Fa\": 1, \"Po\": 0, \"NV\": -1},\n",
    "                    \"GarageCond\": {\"Ex\": 4, \"Gd\": 3, \"TA\": 2, \"Fa\": 1, \"Po\": 0, \"NV\": -1},\n",
    "                    \"MSZoning\": {\"RM\": 6, \"RP\": 5, \"RL\": 4, \"RH\": 3, \"I\": 2, \"FV\": 1, \"C (all)\": 0, \"NV\": -1},\n",
    "                    \"Utilities\": {\"AllPub\": 3, \"NoSewr\": 2, \"NoSeWa\": 1, \"ELO\": 0, \"NV\": -1},\n",
    "                    \"Neighborhood\": {'MeadowV': 1,'IDOTRR':1,'BrDale':1,\n",
    "                                     'BrkSide':2,'Edwards':2,'OldTown':2,\n",
    "                                     'Sawyer':3,'Blueste':3,'SWISU':3,'NPkVill':3,'NAmes':3,'Mitchel':3,\n",
    "                                     'SawyerW':4,'NWAmes':4,'Gilbert':4,'Blmngtn':4,'CollgCr':4,\n",
    "                                     'Crawfor':5,'ClearCr':5,'Somerst':5,'Veenker':5,'Timber':5,\n",
    "                                     'StoneBr':6,'NridgHt':6,'NoRidge':6, \"NV\": -1}\n",
    "\n",
    "                   }\n",
    "\n",
    "\n",
    "       \n",
    "    df.replace(cleanup_nums, inplace=True)\n",
    "    \n",
    "    columns_to_encode = list(df.loc[:, df.dtypes == object])\n",
    "    \n",
    "    for column in columns_to_encode:\n",
    "        le = preprocessing.LabelEncoder()\n",
    "        le.fit(df[column])\n",
    "        df[column] = le.transform(df[column]) \n",
    "        \n",
    "    #columns_to_oneHot = list(['BldgType'])\n",
    "    \n",
    "    #for column in columns_to_oneHot:\n",
    "     #   df = pd.get_dummies(df, columns=[column])\n",
    "        \n",
    "    \n",
    "    return df\n",
    "\n"
   ]
  },
  {
   "cell_type": "code",
   "execution_count": 6,
   "metadata": {},
   "outputs": [],
   "source": [
    "train = prepare_data(train)"
   ]
  },
  {
   "cell_type": "code",
   "execution_count": null,
   "metadata": {},
   "outputs": [],
   "source": [
    "[print(i, list(train)[i], np.unique(train.iloc[:,i])) for i in range(1,101)]"
   ]
  },
  {
   "cell_type": "code",
   "execution_count": 7,
   "metadata": {},
   "outputs": [],
   "source": [
    "# this is our test set\n",
    "y = train['SalePrice']\n",
    "X = train.drop(['Id', 'SalePrice'], 1)\n",
    "\n",
    "\n",
    "# flatten y into a 1-D array\n",
    "y = np.ravel(y)\n",
    "\n",
    "# evaluate the model by splitting into train and test sets\n",
    "X_train, X_test, y_train, y_test = train_test_split(X, y, test_size=0.2, random_state=0)"
   ]
  },
  {
   "cell_type": "code",
   "execution_count": 8,
   "metadata": {},
   "outputs": [
    {
     "name": "stdout",
     "output_type": "stream",
     "text": [
      "0.8681885593987898\n",
      "0.692731452750684\n"
     ]
    }
   ],
   "source": [
    "#Linear Regression\n",
    "regr = linear_model.LinearRegression()\n",
    "regr.fit(X_train, y_train)\n",
    "print(regr.score(X_train, y_train))\n",
    "\n",
    "predicted_regr = regr.predict(X_test)\n",
    "print(regr.score(X_test, y_test))"
   ]
  },
  {
   "cell_type": "code",
   "execution_count": 9,
   "metadata": {},
   "outputs": [
    {
     "name": "stdout",
     "output_type": "stream",
     "text": [
      "0.8681885334469973\n",
      "0.692747679559348\n"
     ]
    }
   ],
   "source": [
    "#regression Lasso\n",
    "from sklearn.linear_model import Ridge\n",
    "clf = Ridge(alpha=0.1)\n",
    "clf.fit(X_train, y_train)\n",
    "print(clf.score(X_train, y_train))\n",
    "\n",
    "predicted_clf = clf.predict(X_test)\n",
    "print(clf.score(X_test, y_test))"
   ]
  },
  {
   "cell_type": "code",
   "execution_count": 10,
   "metadata": {},
   "outputs": [
    {
     "name": "stdout",
     "output_type": "stream",
     "text": [
      "0.8681885176282589\n",
      "0.6927287765120667\n"
     ]
    },
    {
     "name": "stderr",
     "output_type": "stream",
     "text": [
      "C:\\Users\\natacha\\Anaconda3\\lib\\site-packages\\sklearn\\linear_model\\coordinate_descent.py:491: ConvergenceWarning: Objective did not converge. You might want to increase the number of iterations. Fitting data with very small alpha may cause precision problems.\n",
      "  ConvergenceWarning)\n"
     ]
    }
   ],
   "source": [
    "#regression Lasso\n",
    "from sklearn.linear_model import Lasso\n",
    "clf_lasso = linear_model.Lasso(alpha=1.0)\n",
    "clf_lasso.fit(X_train, y_train)\n",
    "print(clf_lasso.score(X_train, y_train))\n",
    "\n",
    "predicted_clf_lasso = clf_lasso.predict(X_test)\n",
    "print(clf_lasso.score(X_test, y_test))"
   ]
  },
  {
   "cell_type": "code",
   "execution_count": 11,
   "metadata": {},
   "outputs": [
    {
     "name": "stdout",
     "output_type": "stream",
     "text": [
      "0.9006246492117138\n",
      "0.8232426117897036\n"
     ]
    }
   ],
   "source": [
    "#random Forest\n",
    "from sklearn.ensemble import RandomForestRegressor\n",
    "from sklearn.datasets import make_regression\n",
    "#X_train, y_train = make_regression(n_features=4, n_informative=2, random_state=0, shuffle=False)\n",
    "regrF = RandomForestRegressor(max_depth=5, random_state=0)\n",
    "regrF.fit(X_train, y_train)\n",
    "print(regrF.score(X_train, y_train))\n",
    "\n",
    "predicted_regrF = regrF.predict(X_test)\n",
    "print(regrF.score(X_test, y_test))"
   ]
  },
  {
   "cell_type": "code",
   "execution_count": 12,
   "metadata": {},
   "outputs": [
    {
     "name": "stdout",
     "output_type": "stream",
     "text": [
      "0.969153294958908\n",
      "0.8796640222430829\n"
     ]
    }
   ],
   "source": [
    "#Gradient Boosting Regressor\n",
    "GBR = ensemble.GradientBoostingRegressor()\n",
    "GBR.fit(X_train, y_train)\n",
    "print(GBR.score(X_train, y_train))\n",
    "\n",
    "predicted_GBR = GBR.predict(X_test)\n",
    "print(GBR.score(X_test, y_test))"
   ]
  },
  {
   "cell_type": "code",
   "execution_count": 13,
   "metadata": {},
   "outputs": [
    {
     "name": "stdout",
     "output_type": "stream",
     "text": [
      "Feature ranking:\n",
      "1. feature 7: OverallQual (0.593147)\n",
      "2. feature 6: Neighborhood (0.120602)\n",
      "3. feature 22: GrLivArea (0.111952)\n",
      "4. feature 18: TotalBsmtSF (0.052323)\n",
      "5. feature 20: 1stFlrSF (0.025132)\n",
      "6. feature 16: BsmtFinSF1 (0.019695)\n",
      "7. feature 2: LotArea (0.009977)\n",
      "8. feature 32: GarageCars (0.007986)\n",
      "9. feature 25: BedroomAbvGr (0.007031)\n",
      "10. feature 21: 2ndFlrSF (0.006670)\n",
      "11. feature 33: GarageArea (0.005569)\n",
      "12. feature 17: BsmtUnfSF (0.004196)\n",
      "13. feature 36: WoodDeckSF (0.003525)\n",
      "14. feature 9: YearBuilt (0.003493)\n",
      "15. feature 30: FireplaceQu (0.003365)\n",
      "16. feature 27: KitchenQual (0.002940)\n",
      "17. feature 23: FullBath (0.002521)\n",
      "18. feature 19: CentralAir (0.002131)\n",
      "19. feature 10: YearRemodAdd (0.001761)\n",
      "20. feature 40: SaleType (0.001450)\n",
      "21. feature 0: MSSubClass (0.001326)\n",
      "22. feature 13: BsmtQual (0.001240)\n",
      "23. feature 37: OpenPorchSF (0.001141)\n",
      "24. feature 39: MoSold (0.001106)\n",
      "25. feature 12: MasVnrArea (0.001073)\n",
      "26. feature 31: GarageType (0.001018)\n",
      "27. feature 14: BsmtCond (0.000861)\n",
      "28. feature 8: OverallCond (0.000844)\n",
      "29. feature 26: KitchenAbvGr (0.000795)\n",
      "30. feature 24: HalfBath (0.000749)\n",
      "31. feature 15: BsmtFinType1 (0.000646)\n",
      "32. feature 35: GarageCond (0.000615)\n",
      "33. feature 1: MSZoning (0.000586)\n",
      "34. feature 34: GarageQual (0.000543)\n",
      "35. feature 29: Fireplaces (0.000498)\n",
      "36. feature 4: LandContour (0.000461)\n",
      "37. feature 3: LotShape (0.000408)\n",
      "38. feature 28: TotRmsAbvGrd (0.000249)\n",
      "39. feature 5: LotConfig (0.000194)\n",
      "40. feature 38: EnclosedPorch (0.000179)\n",
      "41. feature 11: RoofStyle (0.000000)\n"
     ]
    },
    {
     "data": {
      "image/png": "[encoded data removed]",
      "text/plain": [
       "<matplotlib.figure.Figure at 0x268173abef0>"
      ]
     },
     "metadata": {},
     "output_type": "display_data"
    }
   ],
   "source": [
    "#Feature importances with random forest\n",
    "# Build a forest and compute the feature importances\n",
    "importances = regrF.feature_importances_\n",
    "std = np.std([tree.feature_importances_ for tree in regrF.estimators_], axis=0)\n",
    "indices = np.argsort(importances)[::-1]\n",
    "\n",
    "# Print the feature ranking\n",
    "print(\"Feature ranking:\")\n",
    "\n",
    "feature_keep =[]\n",
    "feature_drop = []\n",
    "for f in range(X.shape[1]):\n",
    "    print(\"%d. feature %d: %s (%f)\" % (f + 1, indices[f], list(X)[indices[f]], importances[indices[f]]))\n",
    "    if f < 20:\n",
    "        feature_keep.append(list(X)[indices[f]])\n",
    "    if f > 45:\n",
    "        feature_drop.append(list(X)[indices[f]])\n",
    "        \n",
    "# Plot the feature importances of the forest\n",
    "plt.figure()\n",
    "plt.title(\"Feature importances\")\n",
    "plt.bar(range(X.shape[1]), importances[indices],\n",
    "       color=\"r\", yerr=std[indices], align=\"center\", tick_label=X_train.columns)\n",
    "plt.xticks(range(X_train.shape[1]), X_train.columns)\n",
    "plt.xlim([-1, X_train.shape[1]])\n",
    "plt.show()"
   ]
  },
  {
   "cell_type": "code",
   "execution_count": null,
   "metadata": {},
   "outputs": [],
   "source": [
    "feature_drop"
   ]
  },
  {
   "cell_type": "code",
   "execution_count": null,
   "metadata": {},
   "outputs": [],
   "source": [
    "\n"
   ]
  },
  {
   "cell_type": "code",
   "execution_count": 14,
   "metadata": {},
   "outputs": [],
   "source": [
    "test2 = pd.read_csv('test.csv')\n"
   ]
  },
  {
   "cell_type": "code",
   "execution_count": 15,
   "metadata": {},
   "outputs": [],
   "source": [
    "test2 = prepare_data(test2)\n"
   ]
  },
  {
   "cell_type": "code",
   "execution_count": 16,
   "metadata": {},
   "outputs": [],
   "source": [
    "test2 = test2.drop(['Id'], 1)"
   ]
  },
  {
   "cell_type": "code",
   "execution_count": null,
   "metadata": {},
   "outputs": [],
   "source": [
    "[print(i, list(test2)[i], np.unique(test2.iloc[:,i])) for i in range(1,101)]"
   ]
  },
  {
   "cell_type": "code",
   "execution_count": 17,
   "metadata": {},
   "outputs": [],
   "source": [
    "predicted_regr_test = GBR.predict(test2)"
   ]
  },
  {
   "cell_type": "code",
   "execution_count": 18,
   "metadata": {},
   "outputs": [],
   "source": [
    "#pour envoyer les données à Kaggle\n",
    "sub = pd.read_csv('sample_submission.csv')\n",
    "sub = pd.DataFrame(sub)\n",
    "sub['SalePrice'] = predicted_regr_test\n",
    "sub.to_csv('sample_submission_nat.csv', encoding='utf-8', index=False)"
   ]
  },
  {
   "cell_type": "code",
   "execution_count": null,
   "metadata": {},
   "outputs": [],
   "source": []
  }
 ],
 "metadata": {
  "kernelspec": {
   "display_name": "Python 3",
   "language": "python",
   "name": "python3"
  },
  "language_info": {
   "codemirror_mode": {
    "name": "ipython",
    "version": 3
   },
   "file_extension": ".py",
   "mimetype": "text/x-python",
   "name": "python",
   "nbconvert_exporter": "python",
   "pygments_lexer": "ipython3",
   "version": "3.6.4"
  }
 },
 "nbformat": 4,
 "nbformat_minor": 2
}
